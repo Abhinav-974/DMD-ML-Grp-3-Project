{
  "nbformat": 4,
  "nbformat_minor": 0,
  "metadata": {
    "colab": {
      "provenance": []
    },
    "kernelspec": {
      "name": "python3",
      "display_name": "Python 3"
    },
    "language_info": {
      "name": "python"
    }
  },
  "cells": [
    {
      "cell_type": "markdown",
      "source": [
        "# Imports"
      ],
      "metadata": {
        "id": "JiykZr0e2jBK"
      }
    },
    {
      "cell_type": "code",
      "source": [
        "!pip install pydmd"
      ],
      "metadata": {
        "colab": {
          "base_uri": "https://localhost:8080/"
        },
        "id": "bLZ4sfZxKxHm",
        "outputId": "82d600c6-7d40-4274-9291-e741d8f358e8"
      },
      "execution_count": 40,
      "outputs": [
        {
          "output_type": "stream",
          "name": "stdout",
          "text": [
            "Looking in indexes: https://pypi.org/simple, https://us-python.pkg.dev/colab-wheels/public/simple/\n",
            "Collecting pydmd\n",
            "  Downloading pydmd-0.4.0.post2212-py3-none-any.whl (61 kB)\n",
            "\u001b[K     |████████████████████████████████| 61 kB 3.7 MB/s \n",
            "\u001b[?25hRequirement already satisfied: scipy in /usr/local/lib/python3.8/dist-packages (from pydmd) (1.7.3)\n",
            "Requirement already satisfied: numpy in /usr/local/lib/python3.8/dist-packages (from pydmd) (1.21.6)\n",
            "Requirement already satisfied: future in /usr/local/lib/python3.8/dist-packages (from pydmd) (0.16.0)\n",
            "Requirement already satisfied: matplotlib in /usr/local/lib/python3.8/dist-packages (from pydmd) (3.2.2)\n",
            "Collecting ezyrb\n",
            "  Downloading ezyrb-1.3.0.post2212-py3-none-any.whl (52 kB)\n",
            "\u001b[K     |████████████████████████████████| 52 kB 1.5 MB/s \n",
            "\u001b[?25hRequirement already satisfied: scikit-learn>=1.0 in /usr/local/lib/python3.8/dist-packages (from ezyrb->pydmd) (1.0.2)\n",
            "Requirement already satisfied: torch in /usr/local/lib/python3.8/dist-packages (from ezyrb->pydmd) (1.12.1+cu113)\n",
            "Requirement already satisfied: threadpoolctl>=2.0.0 in /usr/local/lib/python3.8/dist-packages (from scikit-learn>=1.0->ezyrb->pydmd) (3.1.0)\n",
            "Requirement already satisfied: joblib>=0.11 in /usr/local/lib/python3.8/dist-packages (from scikit-learn>=1.0->ezyrb->pydmd) (1.2.0)\n",
            "Requirement already satisfied: pyparsing!=2.0.4,!=2.1.2,!=2.1.6,>=2.0.1 in /usr/local/lib/python3.8/dist-packages (from matplotlib->pydmd) (3.0.9)\n",
            "Requirement already satisfied: cycler>=0.10 in /usr/local/lib/python3.8/dist-packages (from matplotlib->pydmd) (0.11.0)\n",
            "Requirement already satisfied: python-dateutil>=2.1 in /usr/local/lib/python3.8/dist-packages (from matplotlib->pydmd) (2.8.2)\n",
            "Requirement already satisfied: kiwisolver>=1.0.1 in /usr/local/lib/python3.8/dist-packages (from matplotlib->pydmd) (1.4.4)\n",
            "Requirement already satisfied: six>=1.5 in /usr/local/lib/python3.8/dist-packages (from python-dateutil>=2.1->matplotlib->pydmd) (1.15.0)\n",
            "Requirement already satisfied: typing-extensions in /usr/local/lib/python3.8/dist-packages (from torch->ezyrb->pydmd) (4.1.1)\n",
            "Installing collected packages: ezyrb, pydmd\n",
            "Successfully installed ezyrb-1.3.0.post2212 pydmd-0.4.0.post2212\n"
          ]
        }
      ]
    },
    {
      "cell_type": "code",
      "execution_count": 41,
      "metadata": {
        "id": "SZL7FVxByH9E"
      },
      "outputs": [],
      "source": [
        "from pathlib import Path\n",
        "import cv2\n",
        "import matplotlib.pyplot as plt\n",
        "import warnings\n",
        "import pandas as pd\n",
        "warnings.filterwarnings('ignore')\n",
        "import numpy as np\n",
        "from PIL import Image\n",
        "from PIL import ImageFilter\n",
        "import os\n",
        "from pydmd import DMD\n",
        "\n",
        "%matplotlib inline\n"
      ]
    },
    {
      "cell_type": "markdown",
      "source": [
        "# Reading Images"
      ],
      "metadata": {
        "id": "CCJ3MYR12lxs"
      }
    },
    {
      "cell_type": "code",
      "source": [
        "from google.colab import drive\n",
        "drive.mount('drive')"
      ],
      "metadata": {
        "colab": {
          "base_uri": "https://localhost:8080/"
        },
        "id": "D1Jbv9ie2ohN",
        "outputId": "660828ea-d69d-4ad7-db0c-1b8cf9cc73fd"
      },
      "execution_count": 1,
      "outputs": [
        {
          "output_type": "stream",
          "name": "stdout",
          "text": [
            "Mounted at drive\n"
          ]
        }
      ]
    },
    {
      "cell_type": "code",
      "source": [
        "# destination_path = '/content/drive/MyDrive/ML_Term_Project/project_data'\n",
        "# target_path = '/content/drive/MyDrive/ML_Term_Project/pre_processed'\n",
        "\n",
        "# format_of_your_images = 'jpg'\n",
        "\n",
        "# all_the_files = Path(destination_path).rglob(f'*.{format_of_your_images}')\n",
        "\n",
        "# for f in all_the_files:\n",
        "#    p = cv2.imread(str(f))\n",
        "#    #  transformation\n",
        "#    gray_image = cv2.cvtColor(p, cv2.COLOR_BGR2GRAY)\n",
        "#    resized = cv2.resize(gray_image, (96,120),interpolation = cv2.INTER_AREA)\n",
        "#    cv2.imwrite(f'{target_path}/{f.name}', resized)\n",
        "     "
      ],
      "metadata": {
        "id": "Myn5GVOk34zC"
      },
      "execution_count": 3,
      "outputs": []
    },
    {
      "cell_type": "markdown",
      "source": [
        "**DOWN SAMPLED GRAY SCALED IMAGES DONE**"
      ],
      "metadata": {
        "id": "3_w0Ik1K6eLa"
      }
    },
    {
      "cell_type": "code",
      "source": [
        "# Import the necessary libraries\n",
        "from PIL import Image\n",
        "from numpy import asarray\n",
        " \n",
        " \n",
        "# load the image and convert into\n",
        "# numpy array\n",
        "img = Image.open('/content/drive/MyDrive/ML_Term_Project/pre_processed/in001201.jpg')\n",
        " \n",
        "# asarray() class is used to convert\n",
        "# PIL images into NumPy arrays\n",
        "numpydata = asarray(img)\n",
        " \n",
        "# <class 'numpy.ndarray'>\n",
        "print(type(numpydata))\n",
        " \n",
        "#  shape\n",
        "print(numpydata.shape)\n",
        "\n",
        "print(numpydata)"
      ],
      "metadata": {
        "colab": {
          "base_uri": "https://localhost:8080/"
        },
        "id": "FwgLEI-n6juu",
        "outputId": "3ff33d84-cf80-4314-9781-59ed7ae24ba6"
      },
      "execution_count": 5,
      "outputs": [
        {
          "output_type": "stream",
          "name": "stdout",
          "text": [
            "<class 'numpy.ndarray'>\n",
            "(120, 96)\n",
            "[[ 45  38  28 ... 125 120 114]\n",
            " [ 34  36  48 ... 196 197 197]\n",
            " [ 62  44  24 ... 196 194 200]\n",
            " ...\n",
            " [ 25  11  10 ... 112 129 110]\n",
            " [ 20  12  10 ... 115 112 108]\n",
            " [ 15  10   9 ... 129 109 107]]\n"
          ]
        }
      ]
    },
    {
      "cell_type": "code",
      "source": [
        "array2 = numpydata.flatten()\n",
        "#Memory occupied by array 2\n",
        "print(array2.shape)\n",
        "#displaying the 1-D array\n",
        "print(array2)"
      ],
      "metadata": {
        "colab": {
          "base_uri": "https://localhost:8080/"
        },
        "id": "YdKO499F-Bzh",
        "outputId": "cf984148-35d6-490c-81b6-bb44b5514597"
      },
      "execution_count": 6,
      "outputs": [
        {
          "output_type": "stream",
          "name": "stdout",
          "text": [
            "(11520,)\n",
            "[ 45  38  28 ... 129 109 107]\n"
          ]
        }
      ]
    },
    {
      "cell_type": "code",
      "source": [
        "array3=array2\n",
        "print(array3)"
      ],
      "metadata": {
        "colab": {
          "base_uri": "https://localhost:8080/"
        },
        "id": "Vf9YxKES-wPG",
        "outputId": "557eaaa4-85ee-4454-b2d0-20277fff5f0e"
      },
      "execution_count": 7,
      "outputs": [
        {
          "output_type": "stream",
          "name": "stdout",
          "text": [
            "[ 45  38  28 ... 129 109 107]\n"
          ]
        }
      ]
    },
    {
      "cell_type": "code",
      "source": [
        "np.c_[array2, array3].shape"
      ],
      "metadata": {
        "colab": {
          "base_uri": "https://localhost:8080/"
        },
        "id": "xAhNbyIf-yzN",
        "outputId": "4f529c45-b719-4383-b6de-57007389487e"
      },
      "execution_count": 11,
      "outputs": [
        {
          "output_type": "execute_result",
          "data": {
            "text/plain": [
              "(11520, 2)"
            ]
          },
          "metadata": {},
          "execution_count": 11
        }
      ]
    },
    {
      "cell_type": "code",
      "source": [
        "inPath =\"/content/drive/MyDrive/ML_Term_Project/pre_processed\"\n",
        "\n",
        "X = np.zeros(11520) \n",
        "# path of the folder that will contain the modified image\n",
        "#outPath =\"E:\\\\GeeksforGeeks\\\\images_rotated\"\n",
        "  \n",
        "for imagePath in os.listdir(inPath):\n",
        "\n",
        "  inputPath = os.path.join(inPath, imagePath)\n",
        "  \n",
        "  # inputPath contains the full directory name\n",
        "  img = Image.open(inputPath)\n",
        "  \n",
        "  #fullOutPath = os.path.join(outPath, 'invert_'+imagePath)\n",
        "  # fullOutPath contains the path of the output\n",
        "  # image that needs to be generated\n",
        "\n",
        "  np_img = asarray(img)\n",
        "  f_np_img = np_img.flatten()\n",
        "\n",
        "  X = np.c_[X,f_np_img]\n",
        "\n",
        "X = X[:,1:]\n"
      ],
      "metadata": {
        "id": "I5LD2A0t_Of0"
      },
      "execution_count": 26,
      "outputs": []
    },
    {
      "cell_type": "code",
      "source": [
        "X.shape"
      ],
      "metadata": {
        "colab": {
          "base_uri": "https://localhost:8080/"
        },
        "id": "R-bDbgk8CNVF",
        "outputId": "ca542986-2129-4da6-d52c-69d55ee33229"
      },
      "execution_count": 27,
      "outputs": [
        {
          "output_type": "execute_result",
          "data": {
            "text/plain": [
              "(11520, 30)"
            ]
          },
          "metadata": {},
          "execution_count": 27
        }
      ]
    },
    {
      "cell_type": "code",
      "source": [
        "df = pd.DataFrame(X)\n",
        "df.to_csv('/content/drive/MyDrive/ML_Term_Project/snapshots.csv',index=False)"
      ],
      "metadata": {
        "id": "2ok30DA5CPhB"
      },
      "execution_count": 34,
      "outputs": []
    },
    {
      "cell_type": "code",
      "source": [
        "df_f = pd.read_csv('/content/drive/MyDrive/ML_Term_Project/snapshots.csv')\n",
        "arr = df_f.to_numpy()"
      ],
      "metadata": {
        "id": "zEtDmLMTEEMZ"
      },
      "execution_count": 35,
      "outputs": []
    },
    {
      "cell_type": "code",
      "source": [
        "arr.shape"
      ],
      "metadata": {
        "colab": {
          "base_uri": "https://localhost:8080/"
        },
        "id": "0AegThgJEc25",
        "outputId": "464ee600-f2bd-43bc-e2c8-e5d266f7b1dd"
      },
      "execution_count": 37,
      "outputs": [
        {
          "output_type": "execute_result",
          "data": {
            "text/plain": [
              "(11520, 30)"
            ]
          },
          "metadata": {},
          "execution_count": 37
        }
      ]
    },
    {
      "cell_type": "code",
      "source": [
        "arr"
      ],
      "metadata": {
        "colab": {
          "base_uri": "https://localhost:8080/"
        },
        "id": "qmyZjPf2Ed8A",
        "outputId": "03cadbd6-b13d-409f-e77c-b26e7877846b"
      },
      "execution_count": 38,
      "outputs": [
        {
          "output_type": "execute_result",
          "data": {
            "text/plain": [
              "array([[ 45.,  46.,  45., ...,  39.,  42.,  47.],\n",
              "       [ 38.,  37.,  36., ...,  35.,  35.,  35.],\n",
              "       [ 28.,  24.,  25., ...,  26.,  26.,  28.],\n",
              "       ...,\n",
              "       [129., 128., 127., ..., 129., 131., 129.],\n",
              "       [109., 109., 106., ..., 111., 109., 107.],\n",
              "       [107., 106., 109., ..., 104., 107., 107.]])"
            ]
          },
          "metadata": {},
          "execution_count": 38
        }
      ]
    },
    {
      "cell_type": "code",
      "source": [],
      "metadata": {
        "id": "dZF3Rz3zFQ_u"
      },
      "execution_count": null,
      "outputs": []
    },
    {
      "cell_type": "markdown",
      "source": [
        "# Performing DMD on our X matrix"
      ],
      "metadata": {
        "id": "Or_TByPrHUQ-"
      }
    },
    {
      "cell_type": "code",
      "source": [
        "dmd = DMD(svd_rank=29)\n",
        "dmd.fit(X)"
      ],
      "metadata": {
        "colab": {
          "base_uri": "https://localhost:8080/"
        },
        "id": "dOf-A9W3HX1H",
        "outputId": "e307f857-524b-4b4b-f4a4-b94f6a54782f"
      },
      "execution_count": 42,
      "outputs": [
        {
          "output_type": "execute_result",
          "data": {
            "text/plain": [
              "<pydmd.dmd.DMD at 0x7f8fc8ea13a0>"
            ]
          },
          "metadata": {},
          "execution_count": 42
        }
      ]
    },
    {
      "cell_type": "code",
      "source": [
        "x = dmd.reconstructed_data\n",
        "x.shape"
      ],
      "metadata": {
        "colab": {
          "base_uri": "https://localhost:8080/"
        },
        "id": "yY0sjsRRLNyu",
        "outputId": "0bd87899-e0ec-4a09-acab-54175266658e"
      },
      "execution_count": 43,
      "outputs": [
        {
          "output_type": "execute_result",
          "data": {
            "text/plain": [
              "(11520, 30)"
            ]
          },
          "metadata": {},
          "execution_count": 43
        }
      ]
    },
    {
      "cell_type": "code",
      "source": [
        "type(x)"
      ],
      "metadata": {
        "colab": {
          "base_uri": "https://localhost:8080/"
        },
        "id": "xwd0JpQSLTkh",
        "outputId": "a3745295-9c7e-49bd-ea3b-22005b1fa8a1"
      },
      "execution_count": 44,
      "outputs": [
        {
          "output_type": "execute_result",
          "data": {
            "text/plain": [
              "numpy.ndarray"
            ]
          },
          "metadata": {},
          "execution_count": 44
        }
      ]
    },
    {
      "cell_type": "code",
      "source": [
        "x[0]"
      ],
      "metadata": {
        "colab": {
          "base_uri": "https://localhost:8080/"
        },
        "id": "VS0b1qF1LiOz",
        "outputId": "93e2d79a-40c5-4b2c-b931-7e10c1e0ff86"
      },
      "execution_count": 46,
      "outputs": [
        {
          "output_type": "execute_result",
          "data": {
            "text/plain": [
              "array([45.        +7.72073061e-15j, 46.        -1.02197197e-14j,\n",
              "       45.        -4.63757193e-14j, 41.        +8.88448040e-15j,\n",
              "       42.        -4.07630671e-14j, 49.        +2.86085401e-15j,\n",
              "       42.        -3.25290465e-15j, 39.        -1.39243718e-15j,\n",
              "       42.        -4.30082348e-14j, 49.        -1.50696388e-14j,\n",
              "       43.        +2.95342676e-14j, 44.        +1.39953947e-14j,\n",
              "       48.        +3.37314387e-15j, 50.        -1.68870849e-14j,\n",
              "       38.        -2.10992211e-14j, 47.        -1.20364701e-14j,\n",
              "       41.        +1.33971818e-14j, 47.        -1.60397053e-14j,\n",
              "       49.        -2.86909625e-14j, 46.        -2.02854372e-14j,\n",
              "       43.        +2.43480790e-14j, 49.        -3.16525618e-16j,\n",
              "       50.        -1.88382443e-14j, 46.        -2.05601078e-14j,\n",
              "       50.        -1.50521341e-14j, 49.        -1.60597189e-14j,\n",
              "       47.        +1.02339075e-14j, 39.        -1.92129964e-14j,\n",
              "       42.        -1.89904662e-14j, 47.19285631-2.07510286e-14j])"
            ]
          },
          "metadata": {},
          "execution_count": 46
        }
      ]
    },
    {
      "cell_type": "code",
      "source": [],
      "metadata": {
        "id": "vVH59903LknG"
      },
      "execution_count": null,
      "outputs": []
    }
  ]
}